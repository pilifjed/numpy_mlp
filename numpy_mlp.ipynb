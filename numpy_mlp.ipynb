{
 "cells": [
  {
   "cell_type": "code",
   "execution_count": 2,
   "metadata": {},
   "outputs": [],
   "source": [
    "from abc import ABC, abstractmethod\n",
    "import numpy as np\n",
    "from tqdm.auto import trange\n",
    "from tensorflow.keras.datasets import mnist"
   ]
  },
  {
   "cell_type": "markdown",
   "metadata": {},
   "source": [
    "### Data preprocessing"
   ]
  },
  {
   "cell_type": "code",
   "execution_count": 3,
   "metadata": {},
   "outputs": [],
   "source": [
    "def flatten_images(data):\n",
    "    return data.reshape((data.shape[0], -1))\n",
    "\n",
    "def one_hot_labels(data):\n",
    "    new_data = np.zeros((data.shape[0], data.max() + 1))\n",
    "    new_data[range(data.shape[0]),data] = 1\n",
    "    return new_data                   "
   ]
  },
  {
   "cell_type": "code",
   "execution_count": 4,
   "metadata": {},
   "outputs": [
    {
     "data": {
      "text/plain": [
       "((60000, 784), (60000, 10), (10000, 784), (10000, 10))"
      ]
     },
     "execution_count": 4,
     "metadata": {},
     "output_type": "execute_result"
    }
   ],
   "source": [
    "(x_train, y_train), (x_test, y_test) = mnist.load_data()\n",
    "x_train, x_test = [flatten_images(x)/255 for x in [x_train, x_test]]\n",
    "y_train, y_test = [one_hot_labels(y) for y in [y_train, y_test]]\n",
    "x_train.shape, y_train.shape, x_test.shape, y_test.shape"
   ]
  },
  {
   "cell_type": "markdown",
   "metadata": {},
   "source": [
    "### Abstract classes"
   ]
  },
  {
   "cell_type": "code",
   "execution_count": 5,
   "metadata": {},
   "outputs": [],
   "source": [
    "class Layer(ABC):\n",
    "    @abstractmethod\n",
    "    def __init__(self):\n",
    "        pass\n",
    "    \n",
    "    @abstractmethod\n",
    "    def forward(self):\n",
    "        pass\n",
    "    \n",
    "    @abstractmethod    \n",
    "    def backward(self):\n",
    "        pass\n",
    "    \n",
    "class Activation(Layer):\n",
    "    def __init__(self):\n",
    "        pass\n",
    "    \n",
    "class Loss(ABC):\n",
    "    @abstractmethod\n",
    "    def value(self, y_true, z):\n",
    "        pass\n",
    "    \n",
    "    @abstractmethod\n",
    "    def gradient(self, y_true, a):\n",
    "        pass\n",
    "    \n",
    "    @abstractmethod\n",
    "    def last_layer_activations(self, z):\n",
    "        pass\n",
    "    \n",
    "class Metric(ABC):\n",
    "    def __init__(self):\n",
    "        self.value = None\n",
    "    \n",
    "    @abstractmethod\n",
    "    def calculate(self, y, a):\n",
    "        self.value = None\n",
    "    \n",
    "    def __repr__(self):\n",
    "        return \"{0}: {1}\".format(self.__class__.__name__, self.value)"
   ]
  },
  {
   "cell_type": "markdown",
   "metadata": {},
   "source": [
    "### Abstract class implementations"
   ]
  },
  {
   "cell_type": "code",
   "execution_count": 6,
   "metadata": {},
   "outputs": [],
   "source": [
    "class Dense(Layer):\n",
    "    def __init__(self, input_size, layer_size):\n",
    "        self.learning_rate = 0.1\n",
    "        self.output_size = layer_size\n",
    "        self.input_size = input_size\n",
    "        self.W = self.__initialize_weights()\n",
    "        self.b = self.__initialize_biases()\n",
    "        \n",
    "    def __initialize_biases(self):\n",
    "        return np.zeros(self.output_size)\n",
    "        \n",
    "    def __initialize_weights(self):\n",
    "        W = np.random.randn(self.input_size, self.output_size) * (1/self.input_size)\n",
    "        return W\n",
    "    \n",
    "    def __gradient_step(self, weights_grad, bias_grad):\n",
    "        self.W -= self.learning_rate * weights_grad\n",
    "        self.b -= self.learning_rate * bias_grad\n",
    "    \n",
    "    def forward(self,layer_input):\n",
    "        layer_output = (layer_input @ self.W) + self.b\n",
    "        return layer_output\n",
    "    \n",
    "    def backward(self, layer_input, chain_grad):\n",
    "        new_chain_grad = chain_grad @ self.W.T \n",
    "        weights_grad = layer_input.T @ chain_grad\n",
    "        bias_grad = np.sum(chain_grad, axis=0)\n",
    "        self.__gradient_step(weights_grad, bias_grad)\n",
    "        return new_chain_grad\n",
    "\n",
    "class ReLu(Activation):    \n",
    "    def forward(self, layer_input):\n",
    "        return np.maximum(0,layer_input)\n",
    "    \n",
    "    def backward(self, layer_input, chain_grad):\n",
    "        grad = layer_input > 0\n",
    "        return chain_grad * grad\n",
    "    \n",
    "class NegativeLogLikelihood(Loss):        \n",
    "    def value(self, y_true, z):\n",
    "        z_true = z[y_true==1.]\n",
    "        return np.mean(-z_true + np.log(np.sum(np.exp(z),axis=-1)))\n",
    "\n",
    "    def gradient(self, y_true, a):\n",
    "        return (a - y_true)/y_true.shape[0]\n",
    "        \n",
    "    def last_layer_activations(self, z):\n",
    "        softmax = np.exp(z)/np.sum(np.exp(z), axis=-1, keepdims=True)\n",
    "        return softmax\n",
    "\n",
    "class Accuracy(Metric):\n",
    "    def calculate(self, y, a):\n",
    "        self.value = np.sum(np.argmax(y,axis=1)==np.argmax(a,axis=1))/y.shape[0]\n",
    "        \n",
    "class Model:\n",
    "    def __init__(self, layers, loss_function, epochs, batch_size, metrics=[]):\n",
    "        self.layers = layers\n",
    "        self.epochs = epochs\n",
    "        self.batch_size = batch_size\n",
    "        self.loss_function = loss_function\n",
    "        self.metrics = metrics\n",
    "        self.loss = np.inf\n",
    "        \n",
    "    def __forward(self, _input):\n",
    "        activations = []\n",
    "        for layer in self.layers:\n",
    "            _input = layer.forward(_input)\n",
    "            activations.append(_input)\n",
    "        return activations\n",
    "    \n",
    "    def __backward(self,activations, chain_grad):\n",
    "        for layer, layer_input in list(zip(self.layers, activations))[::-1]:\n",
    "            chain_grad = layer.backward(layer_input, chain_grad)\n",
    "    \n",
    "    def __calculate_metrics(self, y, a):\n",
    "        for metric in self.metrics:\n",
    "            metric.calculate(y, a) \n",
    "    \n",
    "    def __print_metrics(self):\n",
    "        print(\", \".join([\"Loss: {0}\".format(self.loss)] + [str(m) for m in self.metrics]))\n",
    "\n",
    "    def __batch_step(self, X, y):\n",
    "        activations = self.__forward(X)\n",
    "        self.loss = self.loss_function.value(y, activations[-1])\n",
    "        probabilities = self.loss_function.last_layer_activations(activations[-1])\n",
    "        self.__calculate_metrics(y, probabilities)\n",
    "        loss_grad = self.loss_function.gradient(y, probabilities)\n",
    "        self.__backward([X] + activations[:-1], loss_grad)\n",
    "    \n",
    "    def predict(self, X):\n",
    "        activations = self.__forward(X)[-1]\n",
    "        probabilities = self.loss_function.last_layer_activations(activations)\n",
    "        return np.exp(activations) / np.exp(activations).sum(axis=-1,keepdims=True)\n",
    "    \n",
    "    def fit(self, X, y):\n",
    "        batch_count = y.shape[0]//self.batch_size\n",
    "        for i in range(self.epochs):\n",
    "            for j in trange(batch_count, desc='Epoch {0}:'.format(i)):\n",
    "                if j < batch_count - 1:\n",
    "                    batch_X = X[j*self.batch_size:(j+1)*self.batch_size,:] \n",
    "                    batch_y = y[j*self.batch_size:(j+1)*self.batch_size,:] \n",
    "                else:\n",
    "                    batch_X = X[j*self.batch_size:,:]\n",
    "                    batch_y = y[j*self.batch_size:,:]\n",
    "                self.__batch_step(batch_X, batch_y)\n",
    "            self.__print_metrics()"
   ]
  },
  {
   "cell_type": "markdown",
   "metadata": {},
   "source": [
    "### Neural network definition and training"
   ]
  },
  {
   "cell_type": "code",
   "execution_count": 7,
   "metadata": {},
   "outputs": [],
   "source": [
    "model = Model(\n",
    "    layers=[\n",
    "        Dense(x_train.shape[1],50),\n",
    "        ReLu(),\n",
    "        Dense(50,100),\n",
    "        ReLu(),\n",
    "        Dense(100,10)\n",
    "    ],\n",
    "    loss_function=NegativeLogLikelihood(),\n",
    "    metrics=[\n",
    "        Accuracy()\n",
    "    ],\n",
    "    epochs=20,\n",
    "    batch_size=32,\n",
    ")"
   ]
  },
  {
   "cell_type": "code",
   "execution_count": 8,
   "metadata": {},
   "outputs": [
    {
     "data": {
      "application/vnd.jupyter.widget-view+json": {
       "model_id": "797b420fdca3484fa95673df7f2919bc",
       "version_major": 2,
       "version_minor": 0
      },
      "text/plain": [
       "HBox(children=(IntProgress(value=0, description='Epoch 0:', max=1875, style=ProgressStyle(description_width='i…"
      ]
     },
     "metadata": {},
     "output_type": "display_data"
    },
    {
     "name": "stdout",
     "output_type": "stream",
     "text": [
      "\n",
      "Loss: 0.08619815230137498, Accuracy: 1.0\n"
     ]
    },
    {
     "data": {
      "application/vnd.jupyter.widget-view+json": {
       "model_id": "982448ba0081401bbdf9de59ef53b15b",
       "version_major": 2,
       "version_minor": 0
      },
      "text/plain": [
       "HBox(children=(IntProgress(value=0, description='Epoch 1:', max=1875, style=ProgressStyle(description_width='i…"
      ]
     },
     "metadata": {},
     "output_type": "display_data"
    },
    {
     "name": "stdout",
     "output_type": "stream",
     "text": [
      "\n",
      "Loss: 0.030582315467546084, Accuracy: 1.0\n"
     ]
    },
    {
     "data": {
      "application/vnd.jupyter.widget-view+json": {
       "model_id": "0952cdce48ee47788ddfc50e7fd54d4e",
       "version_major": 2,
       "version_minor": 0
      },
      "text/plain": [
       "HBox(children=(IntProgress(value=0, description='Epoch 2:', max=1875, style=ProgressStyle(description_width='i…"
      ]
     },
     "metadata": {},
     "output_type": "display_data"
    },
    {
     "name": "stdout",
     "output_type": "stream",
     "text": [
      "\n",
      "Loss: 0.018670443321086916, Accuracy: 1.0\n"
     ]
    },
    {
     "data": {
      "application/vnd.jupyter.widget-view+json": {
       "model_id": "ce55a13b6b274e58b3d4dc06a3fc864b",
       "version_major": 2,
       "version_minor": 0
      },
      "text/plain": [
       "HBox(children=(IntProgress(value=0, description='Epoch 3:', max=1875, style=ProgressStyle(description_width='i…"
      ]
     },
     "metadata": {},
     "output_type": "display_data"
    },
    {
     "name": "stdout",
     "output_type": "stream",
     "text": [
      "\n",
      "Loss: 0.010038298033699933, Accuracy: 1.0\n"
     ]
    },
    {
     "data": {
      "application/vnd.jupyter.widget-view+json": {
       "model_id": "80f217d647ca4950884774097559bbaa",
       "version_major": 2,
       "version_minor": 0
      },
      "text/plain": [
       "HBox(children=(IntProgress(value=0, description='Epoch 4:', max=1875, style=ProgressStyle(description_width='i…"
      ]
     },
     "metadata": {},
     "output_type": "display_data"
    },
    {
     "name": "stdout",
     "output_type": "stream",
     "text": [
      "\n",
      "Loss: 0.009810253052072893, Accuracy: 1.0\n"
     ]
    },
    {
     "data": {
      "application/vnd.jupyter.widget-view+json": {
       "model_id": "04155544c5b04faf813d8ef23fcb1996",
       "version_major": 2,
       "version_minor": 0
      },
      "text/plain": [
       "HBox(children=(IntProgress(value=0, description='Epoch 5:', max=1875, style=ProgressStyle(description_width='i…"
      ]
     },
     "metadata": {},
     "output_type": "display_data"
    },
    {
     "name": "stdout",
     "output_type": "stream",
     "text": [
      "\n",
      "Loss: 0.008358818808580137, Accuracy: 1.0\n"
     ]
    },
    {
     "data": {
      "application/vnd.jupyter.widget-view+json": {
       "model_id": "ce46d05d15db4271a237abc36b4d98d6",
       "version_major": 2,
       "version_minor": 0
      },
      "text/plain": [
       "HBox(children=(IntProgress(value=0, description='Epoch 6:', max=1875, style=ProgressStyle(description_width='i…"
      ]
     },
     "metadata": {},
     "output_type": "display_data"
    },
    {
     "name": "stdout",
     "output_type": "stream",
     "text": [
      "\n",
      "Loss: 0.0047085668587854845, Accuracy: 1.0\n"
     ]
    },
    {
     "data": {
      "application/vnd.jupyter.widget-view+json": {
       "model_id": "ccfbedd88c12437d95eaff53ca0060b2",
       "version_major": 2,
       "version_minor": 0
      },
      "text/plain": [
       "HBox(children=(IntProgress(value=0, description='Epoch 7:', max=1875, style=ProgressStyle(description_width='i…"
      ]
     },
     "metadata": {},
     "output_type": "display_data"
    },
    {
     "name": "stdout",
     "output_type": "stream",
     "text": [
      "\n",
      "Loss: 0.004716619491512919, Accuracy: 1.0\n"
     ]
    },
    {
     "data": {
      "application/vnd.jupyter.widget-view+json": {
       "model_id": "e344089a4f304ef5803962fde006b7fc",
       "version_major": 2,
       "version_minor": 0
      },
      "text/plain": [
       "HBox(children=(IntProgress(value=0, description='Epoch 8:', max=1875, style=ProgressStyle(description_width='i…"
      ]
     },
     "metadata": {},
     "output_type": "display_data"
    },
    {
     "name": "stdout",
     "output_type": "stream",
     "text": [
      "\n",
      "Loss: 0.009901375669279122, Accuracy: 1.0\n"
     ]
    },
    {
     "data": {
      "application/vnd.jupyter.widget-view+json": {
       "model_id": "b88ed180514449eeaf08d9082f9fb7cb",
       "version_major": 2,
       "version_minor": 0
      },
      "text/plain": [
       "HBox(children=(IntProgress(value=0, description='Epoch 9:', max=1875, style=ProgressStyle(description_width='i…"
      ]
     },
     "metadata": {},
     "output_type": "display_data"
    },
    {
     "name": "stdout",
     "output_type": "stream",
     "text": [
      "\n",
      "Loss: 0.006167553479467958, Accuracy: 1.0\n"
     ]
    },
    {
     "data": {
      "application/vnd.jupyter.widget-view+json": {
       "model_id": "49ddbe9942624fd5ae28fea1dc958c60",
       "version_major": 2,
       "version_minor": 0
      },
      "text/plain": [
       "HBox(children=(IntProgress(value=0, description='Epoch 10:', max=1875, style=ProgressStyle(description_width='…"
      ]
     },
     "metadata": {},
     "output_type": "display_data"
    },
    {
     "name": "stdout",
     "output_type": "stream",
     "text": [
      "\n",
      "Loss: 0.004218875362454799, Accuracy: 1.0\n"
     ]
    },
    {
     "data": {
      "application/vnd.jupyter.widget-view+json": {
       "model_id": "ad5a81d533f34ed191ce557ab7534e64",
       "version_major": 2,
       "version_minor": 0
      },
      "text/plain": [
       "HBox(children=(IntProgress(value=0, description='Epoch 11:', max=1875, style=ProgressStyle(description_width='…"
      ]
     },
     "metadata": {},
     "output_type": "display_data"
    },
    {
     "name": "stdout",
     "output_type": "stream",
     "text": [
      "\n",
      "Loss: 0.010077667569022342, Accuracy: 1.0\n"
     ]
    },
    {
     "data": {
      "application/vnd.jupyter.widget-view+json": {
       "model_id": "d725ff47f1204f79a2068e6bcef03dea",
       "version_major": 2,
       "version_minor": 0
      },
      "text/plain": [
       "HBox(children=(IntProgress(value=0, description='Epoch 12:', max=1875, style=ProgressStyle(description_width='…"
      ]
     },
     "metadata": {},
     "output_type": "display_data"
    },
    {
     "name": "stdout",
     "output_type": "stream",
     "text": [
      "\n",
      "Loss: 0.008506821927047659, Accuracy: 1.0\n"
     ]
    },
    {
     "data": {
      "application/vnd.jupyter.widget-view+json": {
       "model_id": "d8df6818d8b44ef4818f66b1b08d561e",
       "version_major": 2,
       "version_minor": 0
      },
      "text/plain": [
       "HBox(children=(IntProgress(value=0, description='Epoch 13:', max=1875, style=ProgressStyle(description_width='…"
      ]
     },
     "metadata": {},
     "output_type": "display_data"
    },
    {
     "name": "stdout",
     "output_type": "stream",
     "text": [
      "\n",
      "Loss: 0.004509310709411463, Accuracy: 1.0\n"
     ]
    },
    {
     "data": {
      "application/vnd.jupyter.widget-view+json": {
       "model_id": "8e8b3a9923704431a1450ee1dd30f5e3",
       "version_major": 2,
       "version_minor": 0
      },
      "text/plain": [
       "HBox(children=(IntProgress(value=0, description='Epoch 14:', max=1875, style=ProgressStyle(description_width='…"
      ]
     },
     "metadata": {},
     "output_type": "display_data"
    },
    {
     "name": "stdout",
     "output_type": "stream",
     "text": [
      "\n",
      "Loss: 0.01433938568238069, Accuracy: 1.0\n"
     ]
    },
    {
     "data": {
      "application/vnd.jupyter.widget-view+json": {
       "model_id": "b40d4be3af0b474eb9f755b5d3a36829",
       "version_major": 2,
       "version_minor": 0
      },
      "text/plain": [
       "HBox(children=(IntProgress(value=0, description='Epoch 15:', max=1875, style=ProgressStyle(description_width='…"
      ]
     },
     "metadata": {},
     "output_type": "display_data"
    },
    {
     "name": "stdout",
     "output_type": "stream",
     "text": [
      "\n",
      "Loss: 0.009481220339245533, Accuracy: 1.0\n"
     ]
    },
    {
     "data": {
      "application/vnd.jupyter.widget-view+json": {
       "model_id": "53c26fefbe814f1aa1921e209d2e0d4e",
       "version_major": 2,
       "version_minor": 0
      },
      "text/plain": [
       "HBox(children=(IntProgress(value=0, description='Epoch 16:', max=1875, style=ProgressStyle(description_width='…"
      ]
     },
     "metadata": {},
     "output_type": "display_data"
    },
    {
     "name": "stdout",
     "output_type": "stream",
     "text": [
      "\n",
      "Loss: 0.005262661482664466, Accuracy: 1.0\n"
     ]
    },
    {
     "data": {
      "application/vnd.jupyter.widget-view+json": {
       "model_id": "29a9d5d82cd2418f9625af83e1eba289",
       "version_major": 2,
       "version_minor": 0
      },
      "text/plain": [
       "HBox(children=(IntProgress(value=0, description='Epoch 17:', max=1875, style=ProgressStyle(description_width='…"
      ]
     },
     "metadata": {},
     "output_type": "display_data"
    },
    {
     "name": "stdout",
     "output_type": "stream",
     "text": [
      "\n",
      "Loss: 0.0005814872519404601, Accuracy: 1.0\n"
     ]
    },
    {
     "data": {
      "application/vnd.jupyter.widget-view+json": {
       "model_id": "6ad6da959c5846aaaf5ae99e95ed838f",
       "version_major": 2,
       "version_minor": 0
      },
      "text/plain": [
       "HBox(children=(IntProgress(value=0, description='Epoch 18:', max=1875, style=ProgressStyle(description_width='…"
      ]
     },
     "metadata": {},
     "output_type": "display_data"
    },
    {
     "name": "stdout",
     "output_type": "stream",
     "text": [
      "\n",
      "Loss: 0.004662518335625643, Accuracy: 1.0\n"
     ]
    },
    {
     "data": {
      "application/vnd.jupyter.widget-view+json": {
       "model_id": "517fba7568604501ac026c9aa65d1321",
       "version_major": 2,
       "version_minor": 0
      },
      "text/plain": [
       "HBox(children=(IntProgress(value=0, description='Epoch 19:', max=1875, style=ProgressStyle(description_width='…"
      ]
     },
     "metadata": {},
     "output_type": "display_data"
    },
    {
     "name": "stdout",
     "output_type": "stream",
     "text": [
      "\n",
      "Loss: 0.004113177611575924, Accuracy: 1.0\n"
     ]
    }
   ],
   "source": [
    "model.fit(x_train, y_train)"
   ]
  },
  {
   "cell_type": "markdown",
   "metadata": {},
   "source": [
    "### Measuring model performance on test set"
   ]
  },
  {
   "cell_type": "code",
   "execution_count": 9,
   "metadata": {},
   "outputs": [],
   "source": [
    "y_pred = model.predict(x_test[:1000,:])"
   ]
  },
  {
   "cell_type": "code",
   "execution_count": 10,
   "metadata": {},
   "outputs": [
    {
     "name": "stdout",
     "output_type": "stream",
     "text": [
      "Test set accuracy: 0.972\n"
     ]
    }
   ],
   "source": [
    "acc = np.sum(np.argmax(y_pred,axis=1) == np.argmax(y_test[:1000,:], axis=1))/1000\n",
    "print(\"Test set accuracy: {0}\".format(acc))"
   ]
  },
  {
   "cell_type": "code",
   "execution_count": null,
   "metadata": {},
   "outputs": [],
   "source": []
  }
 ],
 "metadata": {
  "kernelspec": {
   "display_name": "Python 3",
   "language": "python",
   "name": "python3"
  },
  "language_info": {
   "codemirror_mode": {
    "name": "ipython",
    "version": 3
   },
   "file_extension": ".py",
   "mimetype": "text/x-python",
   "name": "python",
   "nbconvert_exporter": "python",
   "pygments_lexer": "ipython3",
   "version": "3.6.9"
  }
 },
 "nbformat": 4,
 "nbformat_minor": 4
}
